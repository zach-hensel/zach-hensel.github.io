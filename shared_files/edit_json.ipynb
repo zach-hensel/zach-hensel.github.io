{
 "cells": [
  {
   "cell_type": "code",
   "execution_count": 1,
   "metadata": {},
   "outputs": [],
   "source": [
    "import json"
   ]
  },
  {
   "cell_type": "code",
   "execution_count": 136,
   "metadata": {},
   "outputs": [],
   "source": [
    "# with open('rebuild_Lv_SARS2_tree.json') as f:\n",
    "with open('test_out.json') as f:\n",
    "    data = json.load(f)\n",
    "\n",
    "# for item in data['maps']:\n",
    "#     item['iscategorical'] = item['iscategorical'].replace('$home', item['id'])"
   ]
  },
  {
   "cell_type": "code",
   "execution_count": 143,
   "metadata": {},
   "outputs": [],
   "source": [
    "# add num_date from date\n",
    "from datetime import datetime, date\n",
    "from random import random\n",
    "\n",
    "def get_date_paths(data, key, path=''):\n",
    "    if isinstance(data, list):\n",
    "        for number, item in enumerate(data):\n",
    "            yield from get_date_paths(item, key, f'{path}[{number}]')\n",
    "    elif isinstance(data, dict):\n",
    "        if key in data.keys():\n",
    "            #print(data[key])\n",
    "            yield (data[key], f'{path}[\"{key}\"]')\n",
    "        for name, item in data.items():\n",
    "            # yield from get_date_paths(item, key, f'{path}[\"{name}\"]')\n",
    "            yield from get_date_paths(item, key, f'{path}[\"{name}\"]')\n",
    "\n",
    "test = list(get_date_paths(data,'date'))\n",
    "\n",
    "for i in range(len(test)):\n",
    "\n",
    "    d = eval('data' + test[i][1] + '[\"value\"]')\n",
    "    d = datetime.strptime(d, '%Y-%m-%d').date()\n",
    "    delta = d - date(d.year,1,1)\n",
    "\n",
    "    num_date = str(d.year) + '.' + str((delta.days+1 + (random()-0.5)*0.8)/365.0)[2:]\n",
    "\n",
    "    exec('data' + test[i][1][0:-8] + '[\"num_date\"] = {}')\n",
    "    exec('data' + test[i][1][0:-8] + '[\"num_date\"][\"value\"] = ' + num_date)"
   ]
  },
  {
   "cell_type": "code",
   "execution_count": 144,
   "metadata": {},
   "outputs": [],
   "source": [
    "from random import random\n",
    "\n",
    "test = list(get_date_paths(data,'lineage'))\n",
    "\n",
    "for i in range(len(test)):\n",
    "\n",
    "    lin = eval('data' + test[i][1] + '[\"value\"]')\n",
    "    div = float(eval('data' + test[i][1][0:-11] + '[\"div\"]'))\n",
    "\n",
    "    div = round(div*29903)/29903.\n",
    "\n",
    "    if lin=='A0':\n",
    "        div = div + 0\n",
    "    elif lin=='A':\n",
    "        div = div - 1.0/29903.\n",
    "    else:\n",
    "        div = div - 3.0/29903.\n",
    "\n",
    "    div = div + (random()-0.5)*0.8/29903.\n",
    "\n",
    "    exec('data' + test[i][1][0:-11] + '[\"div_base\"] = {}')\n",
    "    exec('data' + test[i][1][0:-11] + '[\"div_base\"][\"value\"] = ' + str(div))"
   ]
  },
  {
   "cell_type": "code",
   "execution_count": 131,
   "metadata": {},
   "outputs": [
    {
     "data": {
      "text/plain": [
       "0.14524218681347223"
      ]
     },
     "execution_count": 131,
     "metadata": {},
     "output_type": "execute_result"
    }
   ],
   "source": [
    "from random import random\n",
    "random()-0.5"
   ]
  },
  {
   "cell_type": "code",
   "execution_count": 146,
   "metadata": {},
   "outputs": [
    {
     "data": {
      "text/plain": [
       "{'div': 3e-05,\n",
       " 'strain': {'value': 'Shanghai/SH0024/2020'},\n",
       " 'date': {'value': '2020-01-30'},\n",
       " 'accession': 'EPI_ISL_416333',\n",
       " 'lineage': {'value': 'A'},\n",
       " 'joint_WHO_report_2019_case': {'value': 'no'},\n",
       " 'num_date': {'value': 2020.08174006281},\n",
       " 'div_base': {'value': -7.873706361815797e-06}}"
      ]
     },
     "execution_count": 146,
     "metadata": {},
     "output_type": "execute_result"
    }
   ],
   "source": [
    "eval('data' + test[50][1][0:-11])"
   ]
  },
  {
   "cell_type": "code",
   "execution_count": 145,
   "metadata": {},
   "outputs": [],
   "source": [
    "with open('test_out.json', 'w') as f:\n",
    "    json.dump(data, f)\n"
   ]
  },
  {
   "cell_type": "code",
   "execution_count": null,
   "metadata": {},
   "outputs": [],
   "source": []
  },
  {
   "cell_type": "code",
   "execution_count": 161,
   "metadata": {},
   "outputs": [
    {
     "name": "stdout",
     "output_type": "stream",
     "text": [
      "[datetime.date(2019, 12, 24) datetime.date(2020, 2, 2)\n",
      " datetime.date(2020, 2, 16) datetime.date(2020, 2, 26)]\n",
      "2019.9780821917808219\n",
      "2020.08767123287671233\n",
      "2020.12602739726027398\n",
      "2020.15342465753424658\n"
     ]
    }
   ],
   "source": [
    "# get date quartiles\n",
    "\n",
    "import numpy as np\n",
    "test = list(get_date_paths(data,'date'))\n",
    "\n",
    "all_dates = []\n",
    "\n",
    "for i in range(len(test)):\n",
    "\n",
    "    d = eval('data' + test[i][1] + '[\"value\"]')\n",
    "    d = datetime.strptime(d, '%Y-%m-%d').date()\n",
    "    all_dates.append(d)\n",
    "    # delta = d - date(d.year,1,1)\n",
    "\n",
    "    # num_date = str(d.year) + '.' + str((delta.days+1 + (random()-0.5)*0.8)/365.0)[2:]\n",
    "\n",
    "    # exec('data' + test[i][1][0:-8] + '[\"num_date\"] = {}')\n",
    "    # exec('data' + test[i][1][0:-8] + '[\"num_date\"][\"value\"] = ' + num_date)\n",
    "\n",
    "p = np.percentile(all_dates,[0,25,50,75])\n",
    "print(p)\n",
    "\n",
    "for t in p:\n",
    "    delta = t - date(t.year,1,1)\n",
    "    print(str(t.year) + '.' + str(delta.days/365.)[2:])"
   ]
  },
  {
   "cell_type": "code",
   "execution_count": 152,
   "metadata": {},
   "outputs": [
    {
     "data": {
      "text/plain": [
       "array([datetime.date(2020, 2, 2), datetime.date(2020, 2, 16),\n",
       "       datetime.date(2020, 2, 26)], dtype=object)"
      ]
     },
     "execution_count": 152,
     "metadata": {},
     "output_type": "execute_result"
    }
   ],
   "source": [
    "\n",
    "all_dates\n",
    "np.percentile(all_dates,[25,50,75])"
   ]
  }
 ],
 "metadata": {
  "kernelspec": {
   "display_name": "datascience",
   "language": "python",
   "name": "python3"
  },
  "language_info": {
   "codemirror_mode": {
    "name": "ipython",
    "version": 3
   },
   "file_extension": ".py",
   "mimetype": "text/x-python",
   "name": "python",
   "nbconvert_exporter": "python",
   "pygments_lexer": "ipython3",
   "version": "3.12.1"
  }
 },
 "nbformat": 4,
 "nbformat_minor": 2
}
